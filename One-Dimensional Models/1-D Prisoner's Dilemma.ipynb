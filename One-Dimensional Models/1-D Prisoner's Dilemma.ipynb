{
 "cells": [
  {
   "cell_type": "markdown",
   "metadata": {},
   "source": [
    "# One-Dimensional Prisoner's Dilemma\n",
    "### Ashton T. Sperry\n",
    "#### ashton.sperry@ronininstitute.org\n",
    "\n",
    "This notebook provides code for a one-dimensional Prisoner's Dilemma. It is close but not identical to an elementary cellular automaton (the model of the Prisoner's Dilemma is not entirely deterministic). More information can be found here: https://plato.stanford.edu/entries/prisoner-dilemma/. Three cells compose a local neighborhood with each one with a value of 0 or 1. '0' represents the strategy of Cooperation (i.e., the color white) and '1' represents Defection (i.e., the color black). The model converts a local neighborhood (composed of three cells) into a string of 0s and 1s, which are keys to a dictionary of payoffs.\n",
    "\n",
    "I use some concepts of an elementary cellular automaton from Allen Downey's book Think Complexity, Second Edition: https://github.com/AllenDowney/ThinkComplexity2."
   ]
  },
  {
   "cell_type": "code",
   "execution_count": 1,
   "metadata": {},
   "outputs": [],
   "source": [
    "import numpy as np\n",
    "import matplotlib.pyplot as plt"
   ]
  },
  {
   "cell_type": "code",
   "execution_count": 2,
   "metadata": {},
   "outputs": [],
   "source": [
    "class PrisonersDilemma1D:\n",
    "    \"\"\"Represents a 1-D Prisoner's Dilemma.\"\"\"\n",
    "\n",
    "    def __init__(self, payoffs, rows, cols = None):\n",
    "        \"\"\"Initializes the Prisoner's Dilemma.\n",
    "        \n",
    "        payoffs: the temptation, reward, punishment, and sucker payoffs.\n",
    "        A: the numpy array that represents the automaton and contains the binary values.\n",
    "        P: the numpy array that contains the payoffs.\n",
    "        next: the index of the next empty row.\"\"\"\n",
    "        \n",
    "        self.rows = rows\n",
    "        self.cols = 2*rows + 1 if cols is None else cols\n",
    "        self.payoffs = payoffs\n",
    "        \n",
    "        self.A = np.zeros((self.rows, self.cols), dtype = np.uint8)\n",
    "        self.P = np.zeros_like(self.A)\n",
    "        \n",
    "        self.next = 0\n",
    "\n",
    "    def init_single(self):\n",
    "        \"\"\"Starts with one cell in the middle of the top row.\"\"\"\n",
    "        self.A[0, self.cols//2] = 1\n",
    "        self.next += 1\n",
    "\n",
    "    def init_random(self):\n",
    "        \"\"\"Start with random values across the top row.\"\"\"\n",
    "        self.A[0] = np.random.random(self.cols).round()\n",
    "        self.next += 1\n",
    "\n",
    "    def loop(self):\n",
    "        \"\"\"Executes the given number of rows.\"\"\"\n",
    "        for r in range(self.rows-1):\n",
    "            self.step()\n",
    "\n",
    "    def step(self):\n",
    "        \"\"\"Executes one time step by computing the next row of the array.\n",
    "        \n",
    "        A: represents the first array.\n",
    "        P: represents the payoff array.\n",
    "        t, r, p, s: the temptation, reward, punishment, and sucker payoffs.\n",
    "        table: the dictionary to translate a local neighborhood into payoffs.\"\"\"\n",
    "        row = self.next\n",
    "        cols = self.cols\n",
    "        A = self.A\n",
    "        P = self.P\n",
    "        t, r, p, s = self.payoffs\n",
    "        \n",
    "        table = {'111': p + p, '110': p + t, '101': s + s, '100': s + r, \n",
    "                 '011': t + p, '010': t + t, '001': r + s, '000': r + r}\n",
    "        \n",
    "        for col in range(cols):\n",
    "            P[row-1, col] = table[''.join(str(k) for k in \n",
    "                                          list((A[row-1, col-1], \n",
    "                                                A[row-1, col], \n",
    "                                                A[row-1, (col+1)%cols])))]\n",
    "        \n",
    "        \"\"\"The following conditions determine how an agent imitates the\n",
    "        best action from his local neighborhood. The use of modulo wraps\n",
    "        each row as a chain.\"\"\"\n",
    "        for col in range(cols):\n",
    "            if P[row-1, col] < P[row-1, col-1]:\n",
    "                if P[row-1, col-1] < P[row-1, (col+1)%cols]:\n",
    "                    A[row, col] = A[row-1, (col+1)%cols]\n",
    "                \n",
    "                elif P[row-1, col-1] > P[row-1, (col+1)%cols]:\n",
    "                    A[row, col] = A[row-1, col-1]\n",
    "                \n",
    "                else:\n",
    "                    \"\"\"Random choice if there is a tie.\"\"\"\n",
    "                    A[row, col] = np.random.choice([A[row-1, col-1], \n",
    "                                                    A[row-1, (col+1)%cols]])\n",
    "                \n",
    "            elif P[row-1, col] < P[row-1, (col+1)%cols]:\n",
    "                A[row, col] = A[row-1, (col+1)%cols]\n",
    "                    \n",
    "            else:\n",
    "                A[row, col] = A[row-1, col]\n",
    "        \n",
    "        self.next += 1\n",
    "    \n",
    "    def plot_1D(self):\n",
    "        fig = plt.figure(figsize=(12, 12))\n",
    "        plt.imshow(self.A, cmap = 'binary', interpolation = 'none')\n",
    "        plt.title(\"One-Dimensional Prisoner's Dilemma\", fontsize = 'x-large')\n",
    "        plt.show()\n",
    "        #fig.savefig('PD_Single', dpi = 300, format = 'png')\n",
    "        plt.close(fig)"
   ]
  },
  {
   "cell_type": "markdown",
   "metadata": {},
   "source": [
    "We only need the payoffs and number of rows to initialize the automaton class."
   ]
  },
  {
   "cell_type": "code",
   "execution_count": 3,
   "metadata": {},
   "outputs": [],
   "source": [
    "payoffs = 3, 2, 1, 0   # The temptation, reward, punishment, and sucker payoffs.\n",
    "rows = 25\n",
    "single = PrisonersDilemma1D(payoffs, rows)"
   ]
  },
  {
   "cell_type": "markdown",
   "metadata": {},
   "source": [
    "First, create the dictionary with your rule input. Second, initialize the first row (either with a single cell or random set of cells) of the Prisoner's Dilemma, Third, complete the game with the loop function. Fourth, plot the game."
   ]
  },
  {
   "cell_type": "code",
   "execution_count": 4,
   "metadata": {},
   "outputs": [
    {
     "data": {
      "image/png": "[encoded data removed]",
      "text/plain": [
       "<Figure size 864x864 with 1 Axes>"
      ]
     },
     "metadata": {
      "needs_background": "light"
     },
     "output_type": "display_data"
    }
   ],
   "source": [
    "single.init_single()\n",
    "single.loop()\n",
    "single.plot_1D()"
   ]
  },
  {
   "cell_type": "code",
   "execution_count": 5,
   "metadata": {},
   "outputs": [
    {
     "data": {
      "image/png": "[encoded data removed]",
      "text/plain": [
       "<Figure size 864x864 with 1 Axes>"
      ]
     },
     "metadata": {
      "needs_background": "light"
     },
     "output_type": "display_data"
    }
   ],
   "source": [
    "random = PrisonersDilemma1D(payoffs, rows)\n",
    "random.init_random()\n",
    "random.loop()\n",
    "random.plot_1D()"
   ]
  },
  {
   "cell_type": "markdown",
   "metadata": {},
   "source": [
    "The result is that the population converges towards the strategy Defection, which is a stable equilibrium."
   ]
  }
 ],
 "metadata": {
  "kernelspec": {
   "display_name": "Python 3",
   "language": "python",
   "name": "python3"
  },
  "language_info": {
   "codemirror_mode": {
    "name": "ipython",
    "version": 3
   },
   "file_extension": ".py",
   "mimetype": "text/x-python",
   "name": "python",
   "nbconvert_exporter": "python",
   "pygments_lexer": "ipython3",
   "version": "3.7.3"
  }
 },
 "nbformat": 4,
 "nbformat_minor": 2
}
